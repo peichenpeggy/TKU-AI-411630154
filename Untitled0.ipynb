{
  "nbformat": 4,
  "nbformat_minor": 0,
  "metadata": {
    "colab": {
      "provenance": [],
      "authorship_tag": "ABX9TyOi0wcLyCE1bfuArTaN7VYQ",
      "include_colab_link": true
    },
    "kernelspec": {
      "name": "python3",
      "display_name": "Python 3"
    },
    "language_info": {
      "name": "python"
    }
  },
  "cells": [
    {
      "cell_type": "markdown",
      "metadata": {
        "id": "view-in-github",
        "colab_type": "text"
      },
      "source": [
        "<a href=\"https://colab.research.google.com/github/peichenpeggy/TKU-AI-411630154/blob/main/Untitled0.ipynb\" target=\"_parent\"><img src=\"https://colab.research.google.com/assets/colab-badge.svg\" alt=\"Open In Colab\"/></a>"
      ]
    },
    {
      "cell_type": "code",
      "execution_count": 1,
      "metadata": {
        "id": "zkrsWSsdiDVt"
      },
      "outputs": [],
      "source": [
        "import matplotlib.pyplot as plt"
      ]
    },
    {
      "cell_type": "code",
      "source": [
        "plt.plot([9,9.2,9.6,7.5,6.7,7], [9.4,9.2,9.2,9.2,7.1,7.4 ], 'yx') \n",
        "plt.plot([9,9.2,9.6,7.5,6.7,7], [9.4,9.2,9.2,9.2,7.1,7.4 ], 'yx')\n",
        "\n",
        "plt.plot([7.2,7.3,7.2,7.3,7.2,7.3,7.3],[10.3,10.5,9.2,10.2,9.7,10.1,10.1],'gx') \n",
        "\n",
        "plt.plot([6.5,9.0],[7.8,12.5],'b--')\n",
        "plt.ylabel('Hcm') \n",
        "plt.xlabel('Wcm') \n",
        "plt.legend(('Orange','Lemons'),loc='upper right') \n",
        "\n",
        "plt.show()"
      ],
      "metadata": {
        "colab": {
          "base_uri": "https://localhost:8080/",
          "height": 279
        },
        "id": "_HraUIUDkps6",
        "outputId": "b5e0953a-0901-4b31-fc6c-ea38dc37b8b0"
      },
      "execution_count": 3,
      "outputs": [
        {
          "output_type": "display_data",
          "data": {
            "text/plain": [
              "<Figure size 432x288 with 1 Axes>"
            ],
            "image/png": "[encoded data removed]"
          },
          "metadata": {
            "needs_background": "light"
          }
        }
      ]
    }
  ]
}